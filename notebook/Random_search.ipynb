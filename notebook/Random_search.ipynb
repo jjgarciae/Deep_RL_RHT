{
 "cells": [
  {
   "cell_type": "markdown",
   "id": "7480df13",
   "metadata": {},
   "source": [
    "# Random Search"
   ]
  },
  {
   "cell_type": "markdown",
   "id": "0f5e2607",
   "metadata": {},
   "source": [
    "This notebook contains the random search algorithm used in the paper, to compare with the RL algorithms."
   ]
  },
  {
   "cell_type": "markdown",
   "id": "d39930eb",
   "metadata": {},
   "source": [
    "## Imports and functions"
   ]
  },
  {
   "cell_type": "code",
   "execution_count": null,
   "id": "e1af4370",
   "metadata": {},
   "outputs": [],
   "source": [
    "import numpy as np\n",
    "import scipy as sci\n",
    "import pandas as pd\n",
    "import random\n",
    "import itertools\n",
    "from typing import Literal, Optional, Union"
   ]
  },
  {
   "cell_type": "code",
   "execution_count": null,
   "id": "e3971782",
   "metadata": {},
   "outputs": [],
   "source": [
    "def tuple_or_list_to_str(list_tuple_list: list[Union[tuple, list]]) -> list[str]:\n",
    "    \"\"\"Store the elements of a list with tuples/lists into a list with strings.\n",
    "\n",
    "    Parameters\n",
    "    ----------\n",
    "    list_tuple_list : list[Union[tuple, list]]\n",
    "        List of tuples/lists to store into a list of strs.\n",
    "\n",
    "    Returns\n",
    "    -------\n",
    "    list[str]\n",
    "        Elements of the tuple/list stored in a str.\n",
    "\n",
    "    See Also\n",
    "    --------\n",
    "    str_to_tuple_or_list : function to undo this transformation.\n",
    "    \"\"\"\n",
    "    return list(map(lambda x: \" \".join(map(str, x)), list_tuple_list))"
   ]
  },
  {
   "cell_type": "markdown",
   "id": "cbd07fcc",
   "metadata": {},
   "source": [
    "## Random Algorithm"
   ]
  },
  {
   "cell_type": "code",
   "execution_count": null,
   "id": "ad970d13",
   "metadata": {},
   "outputs": [],
   "source": [
    "# Data imports \n",
    "\n",
    "vect = np.genfromtxt('../data/HTC/16layers_index.txt').astype(int) # Combination of materials\n",
    "htc_vals = np.genfromtxt('../data/HTC/16layer_data.txt', dtype = 'float64') # Associated HTC\n",
    "\n",
    "# Problem parmeters\n",
    "\n",
    "N_trials = 1000 # Number of different random runs\n",
    "N_search_steps = vect.shape[0] # Num ber of steps to perform per run (so far, until we find all states)\n",
    "\n",
    "norm = 1e5 # Units for the HTC values\n",
    "\n",
    "top5 = 1.56 # HTC between 5th and 6th best, used to determine if we have found a top 5 result\n",
    "top1 = 1.61 # HTC between 1st and 2nd best, so we can determine if we have found the best\n",
    "\n",
    "# Pre-allocations and definitions\n",
    "\n",
    "indices = np.linspace(0,N_trials-1,N_trials)\n",
    "\n",
    "htc_series = pd.Series(data = htc_vals, index = tuple_or_list_to_str(vect))\n",
    "\n",
    "results_saved = [] # Will hold the pairs N_found_states-Best_state_found\n",
    "\n",
    "x_elements = np.zeros((N_trials,N_search_steps)) # Will hold the number of found states\n",
    "y_elements = np.zeros((N_trials,N_search_steps)) # Will hold the best state found\n",
    "top5_vector = np.zeros((N_trials,N_search_steps)) # Will check if we have found top 5\n",
    "top1_vector = np.zeros((N_trials,N_search_steps)) # Will check if we have found the best\n",
    "\n",
    "# Random algorithm\n",
    "\n",
    "for i in range(N_trials):\n",
    "    \n",
    "    seed = indices[i]\n",
    "    \n",
    "    random.seed(int(seed))\n",
    "    \n",
    "    random_all = list(itertools.product([0,1],repeat=16))\n",
    "    \n",
    "    random.shuffle(random_all)\n",
    "    \n",
    "    best_so_far = 0.0\n",
    "    seen_so_far = []\n",
    "    saved_so_far = []\n",
    "    \n",
    "    for j in range(N_search_steps):\n",
    "                \n",
    "        current_state_index = random_all[j]\n",
    "        \n",
    "        current_state_HTC = htc_series[tuple_or_list_to_str([current_state_index])][0]/(norm)\n",
    "        \n",
    "        if best_so_far > top5:\n",
    "            \n",
    "            top5_vector[i,j] = int(1)\n",
    "            \n",
    "        if best_so_far > top1:\n",
    "            \n",
    "            top1_vector[i,j] = int(i)\n",
    "        \n",
    "        if current_state_HTC not in seen_so_far:\n",
    "            \n",
    "            seen_so_far.append(current_state_HTC)\n",
    "            \n",
    "            if current_state_HTC > best_so_far:\n",
    "                \n",
    "                best_so_far = current_state_HTC\n",
    "                            \n",
    "        saved_so_far.append([len(seen_so_far),best_so_far])\n",
    "        \n",
    "    results_saved.append(saved_so_far)\n",
    "\n",
    "# Computations\n",
    "\n",
    "for i in range(N_trials):\n",
    "    \n",
    "    for j in range(N_search_steps):\n",
    "        \n",
    "        x_elements[i,j] = results_saved[i][j][0]\n",
    "        y_elements[i,j] = results_saved[i][j][1]\n",
    "    \n",
    "x_to_plot = x_elements[0,:] # States found\n",
    "\n",
    "y_mean = np.mean(y_elements,axis=0) # Mean of best state found across all runs\n",
    "y_std = np.std(y_elements,axis=0)   # Std of best state found across all runs\n",
    "\n",
    "top5_mean = np.mean(top5_vector,axis=0)*N_trials # Number of runs in which we found top 5 per N found states\n",
    "top1_mean = np.mean(top1_vector,axis=0)*N_trials # Number of runs in which we found best per N found states"
   ]
  }
 ],
 "metadata": {
  "kernelspec": {
   "display_name": "Python 3 (ipykernel)",
   "language": "python",
   "name": "python3"
  },
  "language_info": {
   "codemirror_mode": {
    "name": "ipython",
    "version": 3
   },
   "file_extension": ".py",
   "mimetype": "text/x-python",
   "name": "python",
   "nbconvert_exporter": "python",
   "pygments_lexer": "ipython3",
   "version": "3.11.3"
  }
 },
 "nbformat": 4,
 "nbformat_minor": 5
}
