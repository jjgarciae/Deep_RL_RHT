{
 "cells": [
  {
   "cell_type": "markdown",
   "metadata": {},
   "source": [
    "# SARSA\n",
    "Here we provide an user fliendly way to run provided code. \n",
    "\n",
    "Of course, provided code can be executed just via `RHT_simulation.py` or `RHT_simulation_RUNS.py`, or through `slurm_script.sh`."
   ]
  },
  {
   "cell_type": "code",
   "execution_count": 1,
   "metadata": {},
   "outputs": [],
   "source": [
    "from pathlib import Path\n",
    "from src.RL_simulations.RHT_simulation_RUNS import approximated_nd_dummy_simulation_runs"
   ]
  },
  {
   "cell_type": "code",
   "execution_count": 2,
   "metadata": {},
   "outputs": [],
   "source": [
    "# set config route, number of runs and the algorithm to execute\n",
    "# please, modify `config.toml` to try different environment/hiperparameters\n",
    "n_runs = 40\n",
    "config_path = Path(\"./src/config.toml\")\n",
    "algorithm = \"sarsa\""
   ]
  },
  {
   "cell_type": "code",
   "execution_count": null,
   "metadata": {},
   "outputs": [],
   "source": [
    "# define 40 seeds for reproducibility\n",
    "seeds = [\n",
    "    0,\n",
    "    1,\n",
    "    2,\n",
    "    3,\n",
    "    4,\n",
    "    5,\n",
    "    6,\n",
    "    7,\n",
    "    8,\n",
    "    9,\n",
    "    10,\n",
    "    11,\n",
    "    12,\n",
    "    13,\n",
    "    14,\n",
    "    15,\n",
    "    16,\n",
    "    17,\n",
    "    18,\n",
    "    19,\n",
    "    20,\n",
    "    21,\n",
    "    22,\n",
    "    23,\n",
    "    24,\n",
    "    25,\n",
    "    26,\n",
    "    27,\n",
    "    28,\n",
    "    29,\n",
    "    30,\n",
    "    31,\n",
    "    32,\n",
    "    33,\n",
    "    34,\n",
    "    35,\n",
    "    36,\n",
    "    37,\n",
    "    38,\n",
    "    39,\n",
    "]"
   ]
  },
  {
   "cell_type": "code",
   "execution_count": null,
   "metadata": {},
   "outputs": [],
   "source": [
    "# execute approximated and dummy simulations to retrieve paper results\n",
    "approximated_nd_dummy_simulation_runs(\n",
    "    n_runs=n_runs,\n",
    "    apprx_algorithm=algorithm,\n",
    "    cfg_path=config_path,\n",
    "    save_computed_htc=False,\n",
    "    save_htc_csv=True,\n",
    "    apprx_save_q_nets=True,\n",
    "    plot=True,\n",
    "    perc_runs_top_HTC=True,\n",
    "    logging_level=\"info\",\n",
    "    seeds=seeds,\n",
    ")"
   ]
  }
 ],
 "metadata": {
  "kernelspec": {
   "display_name": "rl_rht_py3.9",
   "language": "python",
   "name": "python3"
  },
  "language_info": {
   "codemirror_mode": {
    "name": "ipython",
    "version": 3
   },
   "file_extension": ".py",
   "mimetype": "text/x-python",
   "name": "python",
   "nbconvert_exporter": "python",
   "pygments_lexer": "ipython3",
   "version": "3.9.0"
  }
 },
 "nbformat": 4,
 "nbformat_minor": 2
}
